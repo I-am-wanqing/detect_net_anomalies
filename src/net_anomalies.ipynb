{
 "cells": [
  {
   "cell_type": "code",
   "execution_count": 1,
   "id": "8e149e91-cb1e-4586-9a53-c445f94c4ab6",
   "metadata": {
    "ExecutionIndicator": {
     "show": true
    },
    "execution": {
     "iopub.execute_input": "2024-11-06T03:52:51.889609Z",
     "iopub.status.busy": "2024-11-06T03:52:51.889291Z",
     "iopub.status.idle": "2024-11-06T03:52:56.752971Z",
     "shell.execute_reply": "2024-11-06T03:52:56.752424Z",
     "shell.execute_reply.started": "2024-11-06T03:52:51.889587Z"
    },
    "tags": []
   },
   "outputs": [
    {
     "name": "stdout",
     "output_type": "stream",
     "text": [
      "Looking in indexes: https://mirrors.cloud.aliyuncs.com/pypi/simple\n",
      "Requirement already satisfied: pip in /usr/local/lib/python3.10/site-packages (24.3.1)\n",
      "\u001b[33mWARNING: Error parsing dependencies of omegaconf: .* suffix can only be used with `==` or `!=` operators\n",
      "    PyYAML (>=5.1.*)\n",
      "            ~~~~~~^\u001b[0m\u001b[33m\n",
      "\u001b[0m\u001b[33mWARNING: Error parsing dependencies of pytorch-lightning: .* suffix can only be used with `==` or `!=` operators\n",
      "    torch (>=1.9.*)\n",
      "           ~~~~~~^\u001b[0m\u001b[33m\n",
      "\u001b[0m\u001b[33mWARNING: Running pip as the 'root' user can result in broken permissions and conflicting behaviour with the system package manager, possibly rendering your system unusable.It is recommended to use a virtual environment instead: https://pip.pypa.io/warnings/venv. Use the --root-user-action option if you know what you are doing and want to suppress this warning.\u001b[0m\u001b[33m\n",
      "\u001b[0mLooking in indexes: https://mirrors.cloud.aliyuncs.com/pypi/simple\n",
      "Requirement already satisfied: pandas in /usr/local/lib/python3.10/site-packages (from -r requirements.txt (line 1)) (2.2.3)\n",
      "Requirement already satisfied: scikit-learn in /usr/local/lib/python3.10/site-packages (from -r requirements.txt (line 2)) (1.5.2)\n",
      "Requirement already satisfied: imbalanced-learn in /usr/local/lib/python3.10/site-packages (from -r requirements.txt (line 3)) (0.12.4)\n",
      "Requirement already satisfied: keras in /usr/local/lib/python3.10/site-packages (from -r requirements.txt (line 4)) (3.6.0)\n",
      "Requirement already satisfied: tensorflow in /usr/local/lib/python3.10/site-packages (from -r requirements.txt (line 5)) (2.16.1)\n",
      "Requirement already satisfied: matplotlib in /usr/local/lib/python3.10/site-packages (from -r requirements.txt (line 6)) (3.9.2)\n",
      "Requirement already satisfied: joblib in /usr/local/lib/python3.10/site-packages (from -r requirements.txt (line 7)) (1.4.2)\n",
      "Requirement already satisfied: numpy>=1.22.4 in /usr/local/lib/python3.10/site-packages (from pandas->-r requirements.txt (line 1)) (1.26.4)\n",
      "Requirement already satisfied: python-dateutil>=2.8.2 in /usr/local/lib/python3.10/site-packages (from pandas->-r requirements.txt (line 1)) (2.9.0.post0)\n",
      "Requirement already satisfied: pytz>=2020.1 in /usr/local/lib/python3.10/site-packages (from pandas->-r requirements.txt (line 1)) (2024.2)\n",
      "Requirement already satisfied: tzdata>=2022.7 in /usr/local/lib/python3.10/site-packages (from pandas->-r requirements.txt (line 1)) (2024.2)\n",
      "Requirement already satisfied: scipy>=1.6.0 in /usr/local/lib/python3.10/site-packages (from scikit-learn->-r requirements.txt (line 2)) (1.12.0)\n",
      "Requirement already satisfied: threadpoolctl>=3.1.0 in /usr/local/lib/python3.10/site-packages (from scikit-learn->-r requirements.txt (line 2)) (3.5.0)\n",
      "Requirement already satisfied: absl-py in /usr/local/lib/python3.10/site-packages (from keras->-r requirements.txt (line 4)) (2.1.0)\n",
      "Requirement already satisfied: rich in /usr/local/lib/python3.10/site-packages (from keras->-r requirements.txt (line 4)) (13.9.2)\n",
      "Requirement already satisfied: namex in /usr/local/lib/python3.10/site-packages (from keras->-r requirements.txt (line 4)) (0.0.8)\n",
      "Requirement already satisfied: h5py in /usr/local/lib/python3.10/site-packages (from keras->-r requirements.txt (line 4)) (3.12.1)\n",
      "Requirement already satisfied: optree in /usr/local/lib/python3.10/site-packages (from keras->-r requirements.txt (line 4)) (0.13.0)\n",
      "Requirement already satisfied: ml-dtypes in /usr/local/lib/python3.10/site-packages (from keras->-r requirements.txt (line 4)) (0.3.2)\n",
      "Requirement already satisfied: packaging in /usr/local/lib/python3.10/site-packages (from keras->-r requirements.txt (line 4)) (24.1)\n",
      "Requirement already satisfied: astunparse>=1.6.0 in /usr/local/lib/python3.10/site-packages (from tensorflow->-r requirements.txt (line 5)) (1.6.3)\n",
      "Requirement already satisfied: flatbuffers>=23.5.26 in /usr/local/lib/python3.10/site-packages (from tensorflow->-r requirements.txt (line 5)) (24.3.25)\n",
      "Requirement already satisfied: gast!=0.5.0,!=0.5.1,!=0.5.2,>=0.2.1 in /usr/local/lib/python3.10/site-packages (from tensorflow->-r requirements.txt (line 5)) (0.6.0)\n",
      "Requirement already satisfied: google-pasta>=0.1.1 in /usr/local/lib/python3.10/site-packages (from tensorflow->-r requirements.txt (line 5)) (0.2.0)\n",
      "Requirement already satisfied: libclang>=13.0.0 in /usr/local/lib/python3.10/site-packages (from tensorflow->-r requirements.txt (line 5)) (18.1.1)\n",
      "Requirement already satisfied: opt-einsum>=2.3.2 in /usr/local/lib/python3.10/site-packages (from tensorflow->-r requirements.txt (line 5)) (3.4.0)\n",
      "Requirement already satisfied: protobuf!=4.21.0,!=4.21.1,!=4.21.2,!=4.21.3,!=4.21.4,!=4.21.5,<5.0.0dev,>=3.20.3 in /usr/local/lib/python3.10/site-packages (from tensorflow->-r requirements.txt (line 5)) (3.20.3)\n",
      "Requirement already satisfied: requests<3,>=2.21.0 in /usr/local/lib/python3.10/site-packages (from tensorflow->-r requirements.txt (line 5)) (2.32.3)\n",
      "Requirement already satisfied: setuptools in /usr/local/lib/python3.10/site-packages (from tensorflow->-r requirements.txt (line 5)) (69.5.1)\n",
      "Requirement already satisfied: six>=1.12.0 in /usr/local/lib/python3.10/site-packages (from tensorflow->-r requirements.txt (line 5)) (1.16.0)\n",
      "Requirement already satisfied: termcolor>=1.1.0 in /usr/local/lib/python3.10/site-packages (from tensorflow->-r requirements.txt (line 5)) (2.5.0)\n",
      "Requirement already satisfied: typing-extensions>=3.6.6 in /usr/local/lib/python3.10/site-packages (from tensorflow->-r requirements.txt (line 5)) (4.12.2)\n",
      "Requirement already satisfied: wrapt>=1.11.0 in /usr/local/lib/python3.10/site-packages (from tensorflow->-r requirements.txt (line 5)) (1.16.0)\n",
      "Requirement already satisfied: grpcio<2.0,>=1.24.3 in /usr/local/lib/python3.10/site-packages (from tensorflow->-r requirements.txt (line 5)) (1.67.0)\n",
      "Requirement already satisfied: tensorboard<2.17,>=2.16 in /usr/local/lib/python3.10/site-packages (from tensorflow->-r requirements.txt (line 5)) (2.16.2)\n",
      "Requirement already satisfied: tensorflow-io-gcs-filesystem>=0.23.1 in /usr/local/lib/python3.10/site-packages (from tensorflow->-r requirements.txt (line 5)) (0.37.1)\n",
      "Requirement already satisfied: contourpy>=1.0.1 in /usr/local/lib/python3.10/site-packages (from matplotlib->-r requirements.txt (line 6)) (1.3.0)\n",
      "Requirement already satisfied: cycler>=0.10 in /usr/local/lib/python3.10/site-packages (from matplotlib->-r requirements.txt (line 6)) (0.12.1)\n",
      "Requirement already satisfied: fonttools>=4.22.0 in /usr/local/lib/python3.10/site-packages (from matplotlib->-r requirements.txt (line 6)) (4.54.1)\n",
      "Requirement already satisfied: kiwisolver>=1.3.1 in /usr/local/lib/python3.10/site-packages (from matplotlib->-r requirements.txt (line 6)) (1.4.7)\n",
      "Requirement already satisfied: pillow>=8 in /usr/local/lib/python3.10/site-packages (from matplotlib->-r requirements.txt (line 6)) (10.4.0)\n",
      "Requirement already satisfied: pyparsing>=2.3.1 in /usr/local/lib/python3.10/site-packages (from matplotlib->-r requirements.txt (line 6)) (3.2.0)\n",
      "Requirement already satisfied: wheel<1.0,>=0.23.0 in /usr/local/lib/python3.10/site-packages (from astunparse>=1.6.0->tensorflow->-r requirements.txt (line 5)) (0.44.0)\n",
      "Requirement already satisfied: charset-normalizer<4,>=2 in /usr/local/lib/python3.10/site-packages (from requests<3,>=2.21.0->tensorflow->-r requirements.txt (line 5)) (3.4.0)\n",
      "Requirement already satisfied: idna<4,>=2.5 in /usr/local/lib/python3.10/site-packages (from requests<3,>=2.21.0->tensorflow->-r requirements.txt (line 5)) (3.10)\n",
      "Requirement already satisfied: urllib3<3,>=1.21.1 in /usr/local/lib/python3.10/site-packages (from requests<3,>=2.21.0->tensorflow->-r requirements.txt (line 5)) (2.2.3)\n",
      "Requirement already satisfied: certifi>=2017.4.17 in /usr/local/lib/python3.10/site-packages (from requests<3,>=2.21.0->tensorflow->-r requirements.txt (line 5)) (2024.8.30)\n",
      "Requirement already satisfied: markdown>=2.6.8 in /usr/local/lib/python3.10/site-packages (from tensorboard<2.17,>=2.16->tensorflow->-r requirements.txt (line 5)) (3.7)\n",
      "Requirement already satisfied: tensorboard-data-server<0.8.0,>=0.7.0 in /usr/local/lib/python3.10/site-packages (from tensorboard<2.17,>=2.16->tensorflow->-r requirements.txt (line 5)) (0.7.2)\n",
      "Requirement already satisfied: werkzeug>=1.0.1 in /usr/local/lib/python3.10/site-packages (from tensorboard<2.17,>=2.16->tensorflow->-r requirements.txt (line 5)) (3.0.4)\n",
      "Requirement already satisfied: markdown-it-py>=2.2.0 in /usr/local/lib/python3.10/site-packages (from rich->keras->-r requirements.txt (line 4)) (3.0.0)\n",
      "Requirement already satisfied: pygments<3.0.0,>=2.13.0 in /usr/local/lib/python3.10/site-packages (from rich->keras->-r requirements.txt (line 4)) (2.18.0)\n",
      "Requirement already satisfied: mdurl~=0.1 in /usr/local/lib/python3.10/site-packages (from markdown-it-py>=2.2.0->rich->keras->-r requirements.txt (line 4)) (0.1.2)\n",
      "Requirement already satisfied: MarkupSafe>=2.1.1 in /usr/local/lib/python3.10/site-packages (from werkzeug>=1.0.1->tensorboard<2.17,>=2.16->tensorflow->-r requirements.txt (line 5)) (2.1.5)\n",
      "\u001b[33mWARNING: Error parsing dependencies of omegaconf: .* suffix can only be used with `==` or `!=` operators\n",
      "    PyYAML (>=5.1.*)\n",
      "            ~~~~~~^\u001b[0m\u001b[33m\n",
      "\u001b[0m\u001b[33mWARNING: Error parsing dependencies of pytorch-lightning: .* suffix can only be used with `==` or `!=` operators\n",
      "    torch (>=1.9.*)\n",
      "           ~~~~~~^\u001b[0m\u001b[33m\n",
      "\u001b[0m\u001b[33mWARNING: Running pip as the 'root' user can result in broken permissions and conflicting behaviour with the system package manager, possibly rendering your system unusable.It is recommended to use a virtual environment instead: https://pip.pypa.io/warnings/venv. Use the --root-user-action option if you know what you are doing and want to suppress this warning.\u001b[0m\u001b[33m\n",
      "\u001b[0m"
     ]
    }
   ],
   "source": [
    "!pip install --upgrade pip\n",
    "!pip install -r requirements.txt"
   ]
  },
  {
   "cell_type": "code",
   "execution_count": 2,
   "id": "dd565a54-7de3-40eb-812e-03efc5c54f00",
   "metadata": {
    "ExecutionIndicator": {
     "show": true
    },
    "execution": {
     "iopub.execute_input": "2024-11-06T08:29:04.141217Z",
     "iopub.status.busy": "2024-11-06T08:29:04.140805Z",
     "iopub.status.idle": "2024-11-06T08:29:06.360816Z",
     "shell.execute_reply": "2024-11-06T08:29:06.360024Z",
     "shell.execute_reply.started": "2024-11-06T08:29:04.141191Z"
    },
    "tags": []
   },
   "outputs": [
    {
     "name": "stderr",
     "output_type": "stream",
     "text": [
      "2024-11-06 16:29:04.545409: I tensorflow/core/util/port.cc:113] oneDNN custom operations are on. You may see slightly different numerical results due to floating-point round-off errors from different computation orders. To turn them off, set the environment variable `TF_ENABLE_ONEDNN_OPTS=0`.\n",
      "2024-11-06 16:29:04.593875: I tensorflow/core/platform/cpu_feature_guard.cc:210] This TensorFlow binary is optimized to use available CPU instructions in performance-critical operations.\n",
      "To enable the following instructions: AVX2 AVX512F AVX512_VNNI FMA, in other operations, rebuild TensorFlow with the appropriate compiler flags.\n",
      "2024-11-06 16:29:05.610124: W tensorflow/compiler/tf2tensorrt/utils/py_utils.cc:38] TF-TRT Warning: Could not find TensorRT\n"
     ]
    }
   ],
   "source": [
    "# 导入第三方依赖库\n",
    "import pandas as pd\n",
    "from sklearn.model_selection import train_test_split\n",
    "from sklearn.preprocessing import LabelEncoder, MinMaxScaler\n",
    "from sklearn.ensemble import RandomForestClassifier\n",
    "from sklearn.linear_model import LogisticRegression\n",
    "from sklearn.naive_bayes import GaussianNB\n",
    "from sklearn.metrics import accuracy_score, precision_score, recall_score, f1_score, roc_auc_score, RocCurveDisplay\n",
    "from sklearn.metrics import roc_curve, auc\n",
    "from keras.models import Sequential\n",
    "from keras.layers import SimpleRNN, Dense\n",
    "from keras.utils import to_categorical\n",
    "import matplotlib.pyplot as plt\n",
    "from imblearn.over_sampling import SMOTE\n",
    "import joblib\n",
    "import numpy as np\n",
    "from collections import Counter"
   ]
  },
  {
   "cell_type": "markdown",
   "id": "ba25c505-8c2d-4289-8a61-863d96020791",
   "metadata": {},
   "source": [
    "读取数据集，数据集位于 ./dataSet/simargl-2021-combined.parquet "
   ]
  },
  {
   "cell_type": "code",
   "execution_count": 3,
   "id": "21cbd97c-e24f-4ffc-bee9-4b52dcc662b8",
   "metadata": {
    "ExecutionIndicator": {
     "show": false
    },
    "execution": {
     "iopub.execute_input": "2024-11-06T08:29:10.414252Z",
     "iopub.status.busy": "2024-11-06T08:29:10.413553Z",
     "iopub.status.idle": "2024-11-06T08:29:23.937084Z",
     "shell.execute_reply": "2024-11-06T08:29:23.936443Z",
     "shell.execute_reply.started": "2024-11-06T08:29:10.414201Z"
    },
    "tags": []
   },
   "outputs": [],
   "source": [
    "df_full = pd.read_parquet('./dataSet/simargl-2021-combined.parquet') # 读取数据集\n",
    "df = df_full.sample(frac=0.01) # 因GPU配置差，缩小原始数据集大小 （原数据集大小为1.34GB ， 包括40263811行数据）"
   ]
  },
  {
   "cell_type": "markdown",
   "id": "608af8ed-baf1-41e1-a936-cd825cea5f01",
   "metadata": {},
   "source": [
    "探索性数据分析"
   ]
  },
  {
   "cell_type": "code",
   "execution_count": 4,
   "id": "19b33a51-5172-40d4-af11-46828797e706",
   "metadata": {
    "ExecutionIndicator": {
     "show": false
    },
    "execution": {
     "iopub.status.idle": "2024-11-06T08:29:30.201080Z",
     "shell.execute_reply": "2024-11-06T08:29:30.200093Z",
     "shell.execute_reply.started": "2024-11-06T08:29:25.588406Z"
    },
    "tags": []
   },
   "outputs": [
    {
     "ename": "ValueError",
     "evalue": "could not convert string to float: '52,,,,,,,,,,52,,,,,,,,,,52,,,,,,,,,52,,,,,,,,,,52,,,,,,,,,,,52,,,,,,,,,,52,,,,,,,,,52,,,,,,,,,,,52,,,,,,,,,52,,,,,,,,,,,52,,,,,,,,,,52'",
     "output_type": "error",
     "traceback": [
      "\u001b[0;31m---------------------------------------------------------------------------\u001b[0m",
      "\u001b[0;31mValueError\u001b[0m                                Traceback (most recent call last)",
      "Cell \u001b[0;32mIn[4], line 80\u001b[0m\n\u001b[1;32m     78\u001b[0m \u001b[38;5;66;03m# 7. 相关性分析\u001b[39;00m\n\u001b[1;32m     79\u001b[0m plt\u001b[38;5;241m.\u001b[39mfigure(figsize\u001b[38;5;241m=\u001b[39m(\u001b[38;5;241m12\u001b[39m, \u001b[38;5;241m8\u001b[39m))\n\u001b[0;32m---> 80\u001b[0m correlation_matrix \u001b[38;5;241m=\u001b[39m \u001b[43mdf\u001b[49m\u001b[43m[\u001b[49m\u001b[43mnumerical_features\u001b[49m\u001b[43m]\u001b[49m\u001b[38;5;241;43m.\u001b[39;49m\u001b[43mcorr\u001b[49m\u001b[43m(\u001b[49m\u001b[43m)\u001b[49m\n\u001b[1;32m     81\u001b[0m sns\u001b[38;5;241m.\u001b[39mheatmap(correlation_matrix, annot\u001b[38;5;241m=\u001b[39m\u001b[38;5;28;01mTrue\u001b[39;00m, cmap\u001b[38;5;241m=\u001b[39m\u001b[38;5;124m'\u001b[39m\u001b[38;5;124mcoolwarm\u001b[39m\u001b[38;5;124m'\u001b[39m, fmt\u001b[38;5;241m=\u001b[39m\u001b[38;5;124m\"\u001b[39m\u001b[38;5;124m.2f\u001b[39m\u001b[38;5;124m\"\u001b[39m)\n\u001b[1;32m     82\u001b[0m plt\u001b[38;5;241m.\u001b[39mtitle(\u001b[38;5;124m\"\u001b[39m\u001b[38;5;124m数值特征之间的相关性\u001b[39m\u001b[38;5;124m\"\u001b[39m)\n",
      "File \u001b[0;32m/usr/local/lib/python3.10/site-packages/pandas/core/frame.py:11049\u001b[0m, in \u001b[0;36mDataFrame.corr\u001b[0;34m(self, method, min_periods, numeric_only)\u001b[0m\n\u001b[1;32m  11047\u001b[0m cols \u001b[38;5;241m=\u001b[39m data\u001b[38;5;241m.\u001b[39mcolumns\n\u001b[1;32m  11048\u001b[0m idx \u001b[38;5;241m=\u001b[39m cols\u001b[38;5;241m.\u001b[39mcopy()\n\u001b[0;32m> 11049\u001b[0m mat \u001b[38;5;241m=\u001b[39m \u001b[43mdata\u001b[49m\u001b[38;5;241;43m.\u001b[39;49m\u001b[43mto_numpy\u001b[49m\u001b[43m(\u001b[49m\u001b[43mdtype\u001b[49m\u001b[38;5;241;43m=\u001b[39;49m\u001b[38;5;28;43mfloat\u001b[39;49m\u001b[43m,\u001b[49m\u001b[43m \u001b[49m\u001b[43mna_value\u001b[49m\u001b[38;5;241;43m=\u001b[39;49m\u001b[43mnp\u001b[49m\u001b[38;5;241;43m.\u001b[39;49m\u001b[43mnan\u001b[49m\u001b[43m,\u001b[49m\u001b[43m \u001b[49m\u001b[43mcopy\u001b[49m\u001b[38;5;241;43m=\u001b[39;49m\u001b[38;5;28;43;01mFalse\u001b[39;49;00m\u001b[43m)\u001b[49m\n\u001b[1;32m  11051\u001b[0m \u001b[38;5;28;01mif\u001b[39;00m method \u001b[38;5;241m==\u001b[39m \u001b[38;5;124m\"\u001b[39m\u001b[38;5;124mpearson\u001b[39m\u001b[38;5;124m\"\u001b[39m:\n\u001b[1;32m  11052\u001b[0m     correl \u001b[38;5;241m=\u001b[39m libalgos\u001b[38;5;241m.\u001b[39mnancorr(mat, minp\u001b[38;5;241m=\u001b[39mmin_periods)\n",
      "File \u001b[0;32m/usr/local/lib/python3.10/site-packages/pandas/core/frame.py:1993\u001b[0m, in \u001b[0;36mDataFrame.to_numpy\u001b[0;34m(self, dtype, copy, na_value)\u001b[0m\n\u001b[1;32m   1991\u001b[0m \u001b[38;5;28;01mif\u001b[39;00m dtype \u001b[38;5;129;01mis\u001b[39;00m \u001b[38;5;129;01mnot\u001b[39;00m \u001b[38;5;28;01mNone\u001b[39;00m:\n\u001b[1;32m   1992\u001b[0m     dtype \u001b[38;5;241m=\u001b[39m np\u001b[38;5;241m.\u001b[39mdtype(dtype)\n\u001b[0;32m-> 1993\u001b[0m result \u001b[38;5;241m=\u001b[39m \u001b[38;5;28;43mself\u001b[39;49m\u001b[38;5;241;43m.\u001b[39;49m\u001b[43m_mgr\u001b[49m\u001b[38;5;241;43m.\u001b[39;49m\u001b[43mas_array\u001b[49m\u001b[43m(\u001b[49m\u001b[43mdtype\u001b[49m\u001b[38;5;241;43m=\u001b[39;49m\u001b[43mdtype\u001b[49m\u001b[43m,\u001b[49m\u001b[43m \u001b[49m\u001b[43mcopy\u001b[49m\u001b[38;5;241;43m=\u001b[39;49m\u001b[43mcopy\u001b[49m\u001b[43m,\u001b[49m\u001b[43m \u001b[49m\u001b[43mna_value\u001b[49m\u001b[38;5;241;43m=\u001b[39;49m\u001b[43mna_value\u001b[49m\u001b[43m)\u001b[49m\n\u001b[1;32m   1994\u001b[0m \u001b[38;5;28;01mif\u001b[39;00m result\u001b[38;5;241m.\u001b[39mdtype \u001b[38;5;129;01mis\u001b[39;00m \u001b[38;5;129;01mnot\u001b[39;00m dtype:\n\u001b[1;32m   1995\u001b[0m     result \u001b[38;5;241m=\u001b[39m np\u001b[38;5;241m.\u001b[39masarray(result, dtype\u001b[38;5;241m=\u001b[39mdtype)\n",
      "File \u001b[0;32m/usr/local/lib/python3.10/site-packages/pandas/core/internals/managers.py:1694\u001b[0m, in \u001b[0;36mBlockManager.as_array\u001b[0;34m(self, dtype, copy, na_value)\u001b[0m\n\u001b[1;32m   1692\u001b[0m         arr\u001b[38;5;241m.\u001b[39mflags\u001b[38;5;241m.\u001b[39mwriteable \u001b[38;5;241m=\u001b[39m \u001b[38;5;28;01mFalse\u001b[39;00m\n\u001b[1;32m   1693\u001b[0m \u001b[38;5;28;01melse\u001b[39;00m:\n\u001b[0;32m-> 1694\u001b[0m     arr \u001b[38;5;241m=\u001b[39m \u001b[38;5;28;43mself\u001b[39;49m\u001b[38;5;241;43m.\u001b[39;49m\u001b[43m_interleave\u001b[49m\u001b[43m(\u001b[49m\u001b[43mdtype\u001b[49m\u001b[38;5;241;43m=\u001b[39;49m\u001b[43mdtype\u001b[49m\u001b[43m,\u001b[49m\u001b[43m \u001b[49m\u001b[43mna_value\u001b[49m\u001b[38;5;241;43m=\u001b[39;49m\u001b[43mna_value\u001b[49m\u001b[43m)\u001b[49m\n\u001b[1;32m   1695\u001b[0m     \u001b[38;5;66;03m# The underlying data was copied within _interleave, so no need\u001b[39;00m\n\u001b[1;32m   1696\u001b[0m     \u001b[38;5;66;03m# to further copy if copy=True or setting na_value\u001b[39;00m\n\u001b[1;32m   1698\u001b[0m \u001b[38;5;28;01mif\u001b[39;00m na_value \u001b[38;5;129;01mis\u001b[39;00m lib\u001b[38;5;241m.\u001b[39mno_default:\n",
      "File \u001b[0;32m/usr/local/lib/python3.10/site-packages/pandas/core/internals/managers.py:1747\u001b[0m, in \u001b[0;36mBlockManager._interleave\u001b[0;34m(self, dtype, na_value)\u001b[0m\n\u001b[1;32m   1741\u001b[0m rl \u001b[38;5;241m=\u001b[39m blk\u001b[38;5;241m.\u001b[39mmgr_locs\n\u001b[1;32m   1742\u001b[0m \u001b[38;5;28;01mif\u001b[39;00m blk\u001b[38;5;241m.\u001b[39mis_extension:\n\u001b[1;32m   1743\u001b[0m     \u001b[38;5;66;03m# Avoid implicit conversion of extension blocks to object\u001b[39;00m\n\u001b[1;32m   1744\u001b[0m \n\u001b[1;32m   1745\u001b[0m     \u001b[38;5;66;03m# error: Item \"ndarray\" of \"Union[ndarray, ExtensionArray]\" has no\u001b[39;00m\n\u001b[1;32m   1746\u001b[0m     \u001b[38;5;66;03m# attribute \"to_numpy\"\u001b[39;00m\n\u001b[0;32m-> 1747\u001b[0m     arr \u001b[38;5;241m=\u001b[39m \u001b[43mblk\u001b[49m\u001b[38;5;241;43m.\u001b[39;49m\u001b[43mvalues\u001b[49m\u001b[38;5;241;43m.\u001b[39;49m\u001b[43mto_numpy\u001b[49m\u001b[43m(\u001b[49m\u001b[43m  \u001b[49m\u001b[38;5;66;43;03m# type: ignore[union-attr]\u001b[39;49;00m\n\u001b[1;32m   1748\u001b[0m \u001b[43m        \u001b[49m\u001b[43mdtype\u001b[49m\u001b[38;5;241;43m=\u001b[39;49m\u001b[43mdtype\u001b[49m\u001b[43m,\u001b[49m\n\u001b[1;32m   1749\u001b[0m \u001b[43m        \u001b[49m\u001b[43mna_value\u001b[49m\u001b[38;5;241;43m=\u001b[39;49m\u001b[43mna_value\u001b[49m\u001b[43m,\u001b[49m\n\u001b[1;32m   1750\u001b[0m \u001b[43m    \u001b[49m\u001b[43m)\u001b[49m\n\u001b[1;32m   1751\u001b[0m \u001b[38;5;28;01melse\u001b[39;00m:\n\u001b[1;32m   1752\u001b[0m     arr \u001b[38;5;241m=\u001b[39m blk\u001b[38;5;241m.\u001b[39mget_values(dtype)\n",
      "File \u001b[0;32m/usr/local/lib/python3.10/site-packages/pandas/core/arrays/base.py:568\u001b[0m, in \u001b[0;36mExtensionArray.to_numpy\u001b[0;34m(self, dtype, copy, na_value)\u001b[0m\n\u001b[1;32m    539\u001b[0m \u001b[38;5;28;01mdef\u001b[39;00m \u001b[38;5;21mto_numpy\u001b[39m(\n\u001b[1;32m    540\u001b[0m     \u001b[38;5;28mself\u001b[39m,\n\u001b[1;32m    541\u001b[0m     dtype: npt\u001b[38;5;241m.\u001b[39mDTypeLike \u001b[38;5;241m|\u001b[39m \u001b[38;5;28;01mNone\u001b[39;00m \u001b[38;5;241m=\u001b[39m \u001b[38;5;28;01mNone\u001b[39;00m,\n\u001b[1;32m    542\u001b[0m     copy: \u001b[38;5;28mbool\u001b[39m \u001b[38;5;241m=\u001b[39m \u001b[38;5;28;01mFalse\u001b[39;00m,\n\u001b[1;32m    543\u001b[0m     na_value: \u001b[38;5;28mobject\u001b[39m \u001b[38;5;241m=\u001b[39m lib\u001b[38;5;241m.\u001b[39mno_default,\n\u001b[1;32m    544\u001b[0m ) \u001b[38;5;241m-\u001b[39m\u001b[38;5;241m>\u001b[39m np\u001b[38;5;241m.\u001b[39mndarray:\n\u001b[1;32m    545\u001b[0m \u001b[38;5;250m    \u001b[39m\u001b[38;5;124;03m\"\"\"\u001b[39;00m\n\u001b[1;32m    546\u001b[0m \u001b[38;5;124;03m    Convert to a NumPy ndarray.\u001b[39;00m\n\u001b[1;32m    547\u001b[0m \n\u001b[0;32m   (...)\u001b[0m\n\u001b[1;32m    566\u001b[0m \u001b[38;5;124;03m    numpy.ndarray\u001b[39;00m\n\u001b[1;32m    567\u001b[0m \u001b[38;5;124;03m    \"\"\"\u001b[39;00m\n\u001b[0;32m--> 568\u001b[0m     result \u001b[38;5;241m=\u001b[39m \u001b[43mnp\u001b[49m\u001b[38;5;241;43m.\u001b[39;49m\u001b[43masarray\u001b[49m\u001b[43m(\u001b[49m\u001b[38;5;28;43mself\u001b[39;49m\u001b[43m,\u001b[49m\u001b[43m \u001b[49m\u001b[43mdtype\u001b[49m\u001b[38;5;241;43m=\u001b[39;49m\u001b[43mdtype\u001b[49m\u001b[43m)\u001b[49m\n\u001b[1;32m    569\u001b[0m     \u001b[38;5;28;01mif\u001b[39;00m copy \u001b[38;5;129;01mor\u001b[39;00m na_value \u001b[38;5;129;01mis\u001b[39;00m \u001b[38;5;129;01mnot\u001b[39;00m lib\u001b[38;5;241m.\u001b[39mno_default:\n\u001b[1;32m    570\u001b[0m         result \u001b[38;5;241m=\u001b[39m result\u001b[38;5;241m.\u001b[39mcopy()\n",
      "File \u001b[0;32m/usr/local/lib/python3.10/site-packages/pandas/core/arrays/_mixins.py:81\u001b[0m, in \u001b[0;36mravel_compat.<locals>.method\u001b[0;34m(self, *args, **kwargs)\u001b[0m\n\u001b[1;32m     78\u001b[0m \u001b[38;5;129m@wraps\u001b[39m(meth)\n\u001b[1;32m     79\u001b[0m \u001b[38;5;28;01mdef\u001b[39;00m \u001b[38;5;21mmethod\u001b[39m(\u001b[38;5;28mself\u001b[39m, \u001b[38;5;241m*\u001b[39margs, \u001b[38;5;241m*\u001b[39m\u001b[38;5;241m*\u001b[39mkwargs):\n\u001b[1;32m     80\u001b[0m     \u001b[38;5;28;01mif\u001b[39;00m \u001b[38;5;28mself\u001b[39m\u001b[38;5;241m.\u001b[39mndim \u001b[38;5;241m==\u001b[39m \u001b[38;5;241m1\u001b[39m:\n\u001b[0;32m---> 81\u001b[0m         \u001b[38;5;28;01mreturn\u001b[39;00m \u001b[43mmeth\u001b[49m\u001b[43m(\u001b[49m\u001b[38;5;28;43mself\u001b[39;49m\u001b[43m,\u001b[49m\u001b[43m \u001b[49m\u001b[38;5;241;43m*\u001b[39;49m\u001b[43margs\u001b[49m\u001b[43m,\u001b[49m\u001b[43m \u001b[49m\u001b[38;5;241;43m*\u001b[39;49m\u001b[38;5;241;43m*\u001b[39;49m\u001b[43mkwargs\u001b[49m\u001b[43m)\u001b[49m\n\u001b[1;32m     83\u001b[0m     flags \u001b[38;5;241m=\u001b[39m \u001b[38;5;28mself\u001b[39m\u001b[38;5;241m.\u001b[39m_ndarray\u001b[38;5;241m.\u001b[39mflags\n\u001b[1;32m     84\u001b[0m     flat \u001b[38;5;241m=\u001b[39m \u001b[38;5;28mself\u001b[39m\u001b[38;5;241m.\u001b[39mravel(\u001b[38;5;124m\"\u001b[39m\u001b[38;5;124mK\u001b[39m\u001b[38;5;124m\"\u001b[39m)\n",
      "File \u001b[0;32m/usr/local/lib/python3.10/site-packages/pandas/core/arrays/categorical.py:1664\u001b[0m, in \u001b[0;36mCategorical.__array__\u001b[0;34m(self, dtype, copy)\u001b[0m\n\u001b[1;32m   1662\u001b[0m ret \u001b[38;5;241m=\u001b[39m take_nd(\u001b[38;5;28mself\u001b[39m\u001b[38;5;241m.\u001b[39mcategories\u001b[38;5;241m.\u001b[39m_values, \u001b[38;5;28mself\u001b[39m\u001b[38;5;241m.\u001b[39m_codes)\n\u001b[1;32m   1663\u001b[0m \u001b[38;5;28;01mif\u001b[39;00m dtype \u001b[38;5;129;01mand\u001b[39;00m np\u001b[38;5;241m.\u001b[39mdtype(dtype) \u001b[38;5;241m!=\u001b[39m \u001b[38;5;28mself\u001b[39m\u001b[38;5;241m.\u001b[39mcategories\u001b[38;5;241m.\u001b[39mdtype:\n\u001b[0;32m-> 1664\u001b[0m     \u001b[38;5;28;01mreturn\u001b[39;00m \u001b[43mnp\u001b[49m\u001b[38;5;241;43m.\u001b[39;49m\u001b[43masarray\u001b[49m\u001b[43m(\u001b[49m\u001b[43mret\u001b[49m\u001b[43m,\u001b[49m\u001b[43m \u001b[49m\u001b[43mdtype\u001b[49m\u001b[43m)\u001b[49m\n\u001b[1;32m   1665\u001b[0m \u001b[38;5;66;03m# When we're a Categorical[ExtensionArray], like Interval,\u001b[39;00m\n\u001b[1;32m   1666\u001b[0m \u001b[38;5;66;03m# we need to ensure __array__ gets all the way to an\u001b[39;00m\n\u001b[1;32m   1667\u001b[0m \u001b[38;5;66;03m# ndarray.\u001b[39;00m\n\u001b[1;32m   1668\u001b[0m \u001b[38;5;28;01mreturn\u001b[39;00m np\u001b[38;5;241m.\u001b[39masarray(ret)\n",
      "\u001b[0;31mValueError\u001b[0m: could not convert string to float: '52,,,,,,,,,,52,,,,,,,,,,52,,,,,,,,,52,,,,,,,,,,52,,,,,,,,,,,52,,,,,,,,,,52,,,,,,,,,52,,,,,,,,,,,52,,,,,,,,,52,,,,,,,,,,,52,,,,,,,,,,52'"
     ]
    },
    {
     "data": {
      "text/plain": [
       "<Figure size 1200x800 with 0 Axes>"
      ]
     },
     "metadata": {},
     "output_type": "display_data"
    }
   ],
   "source": [
    "# 探索性数据分析\n",
    "print('------------------------------- 探索性数据分析 ------------------------------------------')\n",
    "# 保证输出数据完整\n",
    "pd.set_option('display.max_rows', None)\n",
    "pd.set_option('display.max_columns', None)\n",
    "pd.set_option('display.width', None)\n",
    "pd.set_option('display.max_colwidth', None)\n",
    "\n",
    "# 1. 数据概览\n",
    "print(\"数据集概览：\")\n",
    "print(\"数据集形状 (行, 列):\", df.shape)\n",
    "print(\"数据集前五行：\")\n",
    "print(df.head())\n",
    "print(\"\\n数据信息：\")\n",
    "print(df.info())\n",
    "\n",
    "# 2. 检查缺失值\n",
    "print(\"\\n缺失值概览：\")\n",
    "print(df.isnull().sum())\n",
    "\n",
    "# 3. 统计描述\n",
    "print(\"\\n数值特征的统计信息：\")\n",
    "print(df.describe())\n",
    "\n",
    "# 4. 类别特征分布\n",
    "print(\"\\n标签分布：\")\n",
    "print(df['LABEL'].value_counts())\n",
    "# 可视化标签和协议分布\n",
    "plt.figure(figsize=(12, 5))\n",
    "# 标签分布\n",
    "plt.subplot(1, 2, 1)\n",
    "sns.countplot(x='LABEL', data=df)\n",
    "plt.title(\"标签分布\")\n",
    "plt.savefig('./result/label_distribution.png')\n",
    "plt.show()\n",
    "\n",
    "# 5. 特征分布\n",
    "# 数值特征直方图展示\n",
    "numerical_features = [\n",
    "    'DST_TO_SRC_SECOND_BYTES', 'FLOW_ACTIVE_TIMEOUT', 'FLOW_DURATION_MICROSECONDS',\n",
    "    'FLOW_DURATION_MILLISECONDS', 'FRAME_LENGTH', 'IN_BYTES', 'IN_PKTS',\n",
    "    'OUT_BYTES', 'OUT_PKTS', 'TCP_WIN_MAX_IN', 'TCP_WIN_MAX_OUT',\n",
    "    'TCP_WIN_MIN_IN', 'TCP_WIN_MIN_OUT'\n",
    "]\n",
    "df[numerical_features].hist(bins=15, figsize=(15, 10), layout=(3, 4))\n",
    "plt.suptitle(\"数值特征分布\", fontsize=16)\n",
    "plt.savefig('./result/numerical_features_histogram.png')\n",
    "plt.show()\n",
    "\n",
    "# 6. 协议和端口分布\n",
    "# 源端口和目标端口的分布\n",
    "plt.figure(figsize=(12, 5))\n",
    "# 源端口分布\n",
    "plt.subplot(1, 2, 1)\n",
    "sns.histplot(df['L4_SRC_PORT'], bins=30, kde=True)\n",
    "plt.title(\"源端口分布\")\n",
    "# 目标端口分布\n",
    "plt.subplot(1, 2, 2)\n",
    "sns.histplot(df['L4_DST_PORT'], bins=30, kde=True)\n",
    "plt.title(\"目标端口分布\")\n",
    "plt.savefig('./result/port_distributions.png')\n",
    "plt.show()\n",
    "\n",
    "# 7. 相关性分析\n",
    "plt.figure(figsize=(12, 8))\n",
    "correlation_matrix = df[numerical_features].corr()\n",
    "sns.heatmap(correlation_matrix, annot=True, cmap='coolwarm', fmt=\".2f\")\n",
    "plt.title(\"数值特征之间的相关性\")\n",
    "plt.savefig('./result/correlation_matrix.png')\n",
    "plt.show()\n",
    "\n",
    "# 8. 异常值检测\n",
    "# 使用箱线图检测数值特征中的异常值\n",
    "plt.figure(figsize=(15, 10))\n",
    "for i, col in enumerate(numerical_features, 1):\n",
    "    plt.subplot(3, 4, i)\n",
    "    sns.boxplot(y=df[col])\n",
    "    plt.title(f\"{col} 的箱线图\")\n",
    "plt.tight_layout()\n",
    "plt.savefig('./result/box_plots.png')\n",
    "plt.show()\n",
    "\n",
    "print('------------------------------- 探索性数据分析结束 ------------------------------------------')"
   ]
  },
  {
   "cell_type": "markdown",
   "id": "2c371860-6879-457a-ab06-336cc96c10a5",
   "metadata": {},
   "source": [
    "数据预处理，方法为 删除缺失值所在的行 （一行数据中，只要有一个特征有缺失，就删除该行）"
   ]
  },
  {
   "cell_type": "code",
   "execution_count": null,
   "id": "fb317da7-6a4b-43f5-9509-1e76de58c926",
   "metadata": {
    "ExecutionIndicator": {
     "show": true
    },
    "execution": {
     "iopub.execute_input": "2024-11-06T03:53:16.012900Z",
     "iopub.status.busy": "2024-11-06T03:53:16.012657Z",
     "iopub.status.idle": "2024-11-06T03:53:16.017319Z",
     "shell.execute_reply": "2024-11-06T03:53:16.016878Z",
     "shell.execute_reply.started": "2024-11-06T03:53:16.012883Z"
    },
    "tags": []
   },
   "outputs": [],
   "source": [
    "df.dropna(inplace=True) # 删除缺失值所在的行"
   ]
  },
  {
   "cell_type": "markdown",
   "id": "58d238ad-7eda-4eaf-a536-bb2936dd4cf9",
   "metadata": {},
   "source": [
    "标签编码，将文本标签编码为数值，从而便于后续模型处理"
   ]
  },
  {
   "cell_type": "code",
   "execution_count": null,
   "id": "23cd4515-6316-4dc1-96fa-f1b8d38b9454",
   "metadata": {
    "execution": {
     "iopub.execute_input": "2024-11-06T03:53:16.018028Z",
     "iopub.status.busy": "2024-11-06T03:53:16.017829Z",
     "iopub.status.idle": "2024-11-06T03:53:16.023057Z",
     "shell.execute_reply": "2024-11-06T03:53:16.022434Z",
     "shell.execute_reply.started": "2024-11-06T03:53:16.018009Z"
    },
    "tags": []
   },
   "outputs": [],
   "source": [
    "# 将文本标签编码为数值\n",
    "label_encoder = LabelEncoder()\n",
    "df['LABEL'] = label_encoder.fit_transform(df['LABEL'])  # 将类别转换为数值"
   ]
  },
  {
   "cell_type": "markdown",
   "id": "cf4ad7d5-6a3b-4085-b453-5b6d765ba3c5",
   "metadata": {},
   "source": [
    "基于特征重要性图表，进行特征选择"
   ]
  },
  {
   "cell_type": "code",
   "execution_count": null,
   "id": "64a1e741-ef5e-41ac-99ea-56811d65c169",
   "metadata": {
    "ExecutionIndicator": {
     "show": true
    },
    "execution": {
     "iopub.execute_input": "2024-11-06T03:53:16.023807Z",
     "iopub.status.busy": "2024-11-06T03:53:16.023611Z",
     "iopub.status.idle": "2024-11-06T03:53:16.029082Z",
     "shell.execute_reply": "2024-11-06T03:53:16.028501Z",
     "shell.execute_reply.started": "2024-11-06T03:53:16.023789Z"
    },
    "tags": []
   },
   "outputs": [
    {
     "name": "stdout",
     "output_type": "stream",
     "text": [
      "X shape: (4026, 9)\n",
      "y shape: (4026,)\n"
     ]
    }
   ],
   "source": [
    "# 特征选择：基于特征重要性图表\n",
    "features = [\n",
    "    'TCP_WIN_MSS_IN', 'IN_BYTES', 'OUT_BYTES', \n",
    "    'FLOW_DURATION_MILLISECONDS', 'L4_DST_PORT', \n",
    "    'TCP_WIN_MIN_IN', 'TCP_FLAGS', 'TCP_WIN_MAX_IN', \n",
    "    'LAST_SWITCHED'\n",
    "]\n",
    "X = df[features]\n",
    "y = df['LABEL']\n",
    "\n",
    "# 再次检查 X 和 y 的形状\n",
    "print(\"X shape:\", X.shape)\n",
    "print(\"y shape:\", y.shape)"
   ]
  },
  {
   "cell_type": "markdown",
   "id": "9cf2369b-c3c0-4d47-84f0-11451b4f4737",
   "metadata": {},
   "source": [
    "将数值特征转化为浮点数"
   ]
  },
  {
   "cell_type": "code",
   "execution_count": null,
   "id": "cd3d43f1-900b-49ab-acec-6d3eea75848d",
   "metadata": {
    "ExecutionIndicator": {
     "show": true
    },
    "execution": {
     "iopub.execute_input": "2024-11-06T03:53:16.029929Z",
     "iopub.status.busy": "2024-11-06T03:53:16.029725Z",
     "iopub.status.idle": "2024-11-06T03:53:16.062841Z",
     "shell.execute_reply": "2024-11-06T03:53:16.062258Z",
     "shell.execute_reply.started": "2024-11-06T03:53:16.029912Z"
    },
    "tags": []
   },
   "outputs": [
    {
     "name": "stdout",
     "output_type": "stream",
     "text": [
      "X shape: (4026, 9)\n",
      "y shape: (4026,)\n"
     ]
    },
    {
     "name": "stderr",
     "output_type": "stream",
     "text": [
      "/tmp/ipykernel_2797/2049995804.py:4: SettingWithCopyWarning: \n",
      "A value is trying to be set on a copy of a slice from a DataFrame.\n",
      "Try using .loc[row_indexer,col_indexer] = value instead\n",
      "\n",
      "See the caveats in the documentation: https://pandas.pydata.org/pandas-docs/stable/user_guide/indexing.html#returning-a-view-versus-a-copy\n",
      "  X[col] = pd.to_numeric(X[col].astype(str).str.replace(',', ''), errors='coerce')\n",
      "/tmp/ipykernel_2797/2049995804.py:4: SettingWithCopyWarning: \n",
      "A value is trying to be set on a copy of a slice from a DataFrame.\n",
      "Try using .loc[row_indexer,col_indexer] = value instead\n",
      "\n",
      "See the caveats in the documentation: https://pandas.pydata.org/pandas-docs/stable/user_guide/indexing.html#returning-a-view-versus-a-copy\n",
      "  X[col] = pd.to_numeric(X[col].astype(str).str.replace(',', ''), errors='coerce')\n",
      "/tmp/ipykernel_2797/2049995804.py:4: SettingWithCopyWarning: \n",
      "A value is trying to be set on a copy of a slice from a DataFrame.\n",
      "Try using .loc[row_indexer,col_indexer] = value instead\n",
      "\n",
      "See the caveats in the documentation: https://pandas.pydata.org/pandas-docs/stable/user_guide/indexing.html#returning-a-view-versus-a-copy\n",
      "  X[col] = pd.to_numeric(X[col].astype(str).str.replace(',', ''), errors='coerce')\n",
      "/tmp/ipykernel_2797/2049995804.py:4: SettingWithCopyWarning: \n",
      "A value is trying to be set on a copy of a slice from a DataFrame.\n",
      "Try using .loc[row_indexer,col_indexer] = value instead\n",
      "\n",
      "See the caveats in the documentation: https://pandas.pydata.org/pandas-docs/stable/user_guide/indexing.html#returning-a-view-versus-a-copy\n",
      "  X[col] = pd.to_numeric(X[col].astype(str).str.replace(',', ''), errors='coerce')\n",
      "/tmp/ipykernel_2797/2049995804.py:4: SettingWithCopyWarning: \n",
      "A value is trying to be set on a copy of a slice from a DataFrame.\n",
      "Try using .loc[row_indexer,col_indexer] = value instead\n",
      "\n",
      "See the caveats in the documentation: https://pandas.pydata.org/pandas-docs/stable/user_guide/indexing.html#returning-a-view-versus-a-copy\n",
      "  X[col] = pd.to_numeric(X[col].astype(str).str.replace(',', ''), errors='coerce')\n",
      "/tmp/ipykernel_2797/2049995804.py:4: SettingWithCopyWarning: \n",
      "A value is trying to be set on a copy of a slice from a DataFrame.\n",
      "Try using .loc[row_indexer,col_indexer] = value instead\n",
      "\n",
      "See the caveats in the documentation: https://pandas.pydata.org/pandas-docs/stable/user_guide/indexing.html#returning-a-view-versus-a-copy\n",
      "  X[col] = pd.to_numeric(X[col].astype(str).str.replace(',', ''), errors='coerce')\n",
      "/tmp/ipykernel_2797/2049995804.py:4: SettingWithCopyWarning: \n",
      "A value is trying to be set on a copy of a slice from a DataFrame.\n",
      "Try using .loc[row_indexer,col_indexer] = value instead\n",
      "\n",
      "See the caveats in the documentation: https://pandas.pydata.org/pandas-docs/stable/user_guide/indexing.html#returning-a-view-versus-a-copy\n",
      "  X[col] = pd.to_numeric(X[col].astype(str).str.replace(',', ''), errors='coerce')\n",
      "/tmp/ipykernel_2797/2049995804.py:4: SettingWithCopyWarning: \n",
      "A value is trying to be set on a copy of a slice from a DataFrame.\n",
      "Try using .loc[row_indexer,col_indexer] = value instead\n",
      "\n",
      "See the caveats in the documentation: https://pandas.pydata.org/pandas-docs/stable/user_guide/indexing.html#returning-a-view-versus-a-copy\n",
      "  X[col] = pd.to_numeric(X[col].astype(str).str.replace(',', ''), errors='coerce')\n",
      "/tmp/ipykernel_2797/2049995804.py:4: SettingWithCopyWarning: \n",
      "A value is trying to be set on a copy of a slice from a DataFrame.\n",
      "Try using .loc[row_indexer,col_indexer] = value instead\n",
      "\n",
      "See the caveats in the documentation: https://pandas.pydata.org/pandas-docs/stable/user_guide/indexing.html#returning-a-view-versus-a-copy\n",
      "  X[col] = pd.to_numeric(X[col].astype(str).str.replace(',', ''), errors='coerce')\n"
     ]
    }
   ],
   "source": [
    "# 将数值特征转换为浮点数\n",
    "for col in features:\n",
    "    # 转换数值特征\n",
    "    X[col] = pd.to_numeric(X[col].astype(str).str.replace(',', ''), errors='coerce')\n",
    "\n",
    "\n",
    "# 再次检查 X 和 y 的形状\n",
    "print(\"X shape:\", X.shape)\n",
    "print(\"y shape:\", y.shape)\n",
    "\n",
    "# 确保 y 和 X 的长度相同\n",
    "assert len(X) == len(y), \"X and y lengths do not match after dropping NaN values\""
   ]
  },
  {
   "cell_type": "markdown",
   "id": "30355756-3d4f-41ca-8db2-902d4196faed",
   "metadata": {},
   "source": [
    "将数值特征归一化处理，使用MinMax归一化"
   ]
  },
  {
   "cell_type": "code",
   "execution_count": null,
   "id": "7efa2f3c-8f1b-4709-a47c-807cbe8ab20f",
   "metadata": {
    "execution": {
     "iopub.execute_input": "2024-11-06T03:53:16.063579Z",
     "iopub.status.busy": "2024-11-06T03:53:16.063393Z",
     "iopub.status.idle": "2024-11-06T03:53:16.069531Z",
     "shell.execute_reply": "2024-11-06T03:53:16.069109Z",
     "shell.execute_reply.started": "2024-11-06T03:53:16.063565Z"
    },
    "tags": []
   },
   "outputs": [],
   "source": [
    "# 归一化选定的特征\n",
    "scaler = MinMaxScaler()\n",
    "X = scaler.fit_transform(X)"
   ]
  },
  {
   "cell_type": "markdown",
   "id": "c9611f39-2d51-489c-9a84-f937b7f8f059",
   "metadata": {},
   "source": [
    "类别不平衡问题处理"
   ]
  },
  {
   "cell_type": "code",
   "execution_count": null,
   "id": "0e656438-4c6e-409c-baea-35c4f88a04d2",
   "metadata": {
    "ExecutionIndicator": {
     "show": true
    },
    "execution": {
     "iopub.execute_input": "2024-11-06T03:53:16.070250Z",
     "iopub.status.busy": "2024-11-06T03:53:16.070057Z",
     "iopub.status.idle": "2024-11-06T03:53:16.072776Z",
     "shell.execute_reply": "2024-11-06T03:53:16.072200Z",
     "shell.execute_reply.started": "2024-11-06T03:53:16.070222Z"
    },
    "tags": []
   },
   "outputs": [],
   "source": [
    "# 打印原始类别分布\n",
    "print(\"Original dataset shape:\", Counter(y))\n",
    "\n",
    "# 处理类别不平衡问题\n",
    "smote = SMOTE(k_neighbors=1)\n",
    "X_resampled, y_resampled = smote.fit_resample(X, y)\n",
    "\n",
    "# 打印重采样后的类别分布\n",
    "print(\"Resampled dataset shape:\", Counter(y_resampled))"
   ]
  },
  {
   "cell_type": "markdown",
   "id": "c19d6244-bc2e-43ba-87e0-7354dc6f2d9d",
   "metadata": {},
   "source": [
    "划分训练集和测试集"
   ]
  },
  {
   "cell_type": "code",
   "execution_count": null,
   "id": "77c352cf-5b44-4baa-abde-33b23e36e334",
   "metadata": {
    "execution": {
     "iopub.execute_input": "2024-11-06T03:53:16.074365Z",
     "iopub.status.busy": "2024-11-06T03:53:16.074140Z",
     "iopub.status.idle": "2024-11-06T03:53:16.078925Z",
     "shell.execute_reply": "2024-11-06T03:53:16.078537Z",
     "shell.execute_reply.started": "2024-11-06T03:53:16.074349Z"
    },
    "tags": []
   },
   "outputs": [],
   "source": [
    "# 按 6:4 比例划分训练集和测试集\n",
    "X_train, X_test, y_train, y_test = train_test_split(X, y, test_size=0.4, random_state=42)"
   ]
  },
  {
   "cell_type": "markdown",
   "id": "cc2dccfb-3546-41eb-91b0-5f8e1dc04d2d",
   "metadata": {},
   "source": [
    "定义模型评估函数"
   ]
  },
  {
   "cell_type": "code",
   "execution_count": null,
   "id": "9f8be647-805b-400d-b3f5-2ec835fcc0c2",
   "metadata": {
    "execution": {
     "iopub.execute_input": "2024-11-06T03:53:16.079660Z",
     "iopub.status.busy": "2024-11-06T03:53:16.079505Z",
     "iopub.status.idle": "2024-11-06T03:53:16.085303Z",
     "shell.execute_reply": "2024-11-06T03:53:16.084731Z",
     "shell.execute_reply.started": "2024-11-06T03:53:16.079646Z"
    },
    "tags": []
   },
   "outputs": [],
   "source": [
    "# 参数注释 ——————\n",
    "# y_true: 真实标签，通常是一个一维数组或列表，表示实际的类别标签。\n",
    "# y_pred: 预测标签，通常是一个一维数组或列表，表示模型预测的类别标签。\n",
    "# model_name: 模型的名称，默认值为 \"Model\"，用于在输出中标识模型。\n",
    "# y_pred_proba: 预测概率，通常是一个二维数组，表示每个样本属于每个类别的概率。如果提供，可以用于计算 ROC AUC 和绘制 ROC 曲线。\n",
    "def evaluate_model(y_true, y_pred, model_name=\"Model\", y_pred_proba=None):\n",
    "    print('-------------------------------------------------------------------------')\n",
    "    print(f\"Evaluation results for {model_name}:\")\n",
    "    print(\"Accuracy:\", accuracy_score(y_true, y_pred))\n",
    "    # 宏平均（Macro Average）：计算每个类别的精确率，然后取平均值\n",
    "    print(\"Precision:\", precision_score(y_true, y_pred, average='macro', zero_division=0)) # 使用宏平均（macro average）进行汇总。在某个类别没有预测样本时，将该类别的精确度设为 0。\n",
    "    print(\"Recall:\", recall_score(y_true, y_pred, average='macro', zero_division=0))\n",
    "    print(\"F1 Score:\", f1_score(y_true, y_pred, average='macro', zero_division=0))\n",
    "    print('-------------------------------------------------------------------------')\n",
    "\n",
    "    if y_pred_proba is not None:\n",
    "        print(\"ROC AUC:\", roc_auc_score(y_true, y_pred_proba, multi_class='ovr'))\n",
    "\n",
    "        # 绘制多类的 ROC 曲线\n",
    "        # 多分类问题中的 One-vs-Rest (OvR) 方法\n",
    "        # 使用 roc_auc_score 函数，并设置参数 multi_class='ovr'。这表示每个类别都分别被视为正类，其他所有类别被视为负类，然后计算每个类别的二分类 AUC 值。\n",
    "        # 最终的 AUC 值是这些二分类 AUC 值的平均值。\n",
    "        fpr = {}\n",
    "        tpr = {}\n",
    "        roc_auc = {}\n",
    "\n",
    "        for i in range(len(label_encoder.classes_)):\n",
    "            fpr[i], tpr[i], _ = roc_curve(y_true, y_pred_proba[:, i], pos_label=i)\n",
    "            roc_auc[i] = auc(fpr[i], tpr[i])\n",
    "            plt.plot(fpr[i], tpr[i], label=f'ROC curve of class {label_encoder.classes_[i]} (area = {roc_auc[i]:.2f})')\n",
    "\n",
    "        plt.plot([0, 1], [0, 1], 'k--')\n",
    "        plt.xlim([0.0, 1.0])\n",
    "        plt.ylim([0.0, 1.05])\n",
    "        plt.xlabel('False Positive Rate')\n",
    "        plt.ylabel('True Positive Rate')\n",
    "        plt.title(f'Receiver Operating Characteristic - {model_name}')\n",
    "        plt.legend(loc=\"lower right\")\n",
    "        # 保存 AUC 图\n",
    "        auc_image_path = f'./result/{model_name}_roc_auc.png'\n",
    "        plt.savefig(auc_image_path)\n",
    "        plt.show()\n"
   ]
  },
  {
   "cell_type": "markdown",
   "id": "b266d539-d9b4-415a-9b12-5727a4805fe1",
   "metadata": {},
   "source": [
    "逻辑回归"
   ]
  },
  {
   "cell_type": "code",
   "execution_count": null,
   "id": "27a7bcd1-6b90-4c80-b87f-356f2484a18d",
   "metadata": {
    "execution": {
     "iopub.execute_input": "2024-11-06T03:53:16.086007Z",
     "iopub.status.busy": "2024-11-06T03:53:16.085825Z",
     "iopub.status.idle": "2024-11-06T03:53:16.526842Z",
     "shell.execute_reply": "2024-11-06T03:53:16.526044Z",
     "shell.execute_reply.started": "2024-11-06T03:53:16.085992Z"
    },
    "tags": []
   },
   "outputs": [
    {
     "name": "stdout",
     "output_type": "stream",
     "text": [
      "--------------------------------------------------------------\n",
      "Evaluation results for Logistic Regression:\n",
      "Accuracy: 0.9577814569536424\n",
      "Precision: 0.4995669151700134\n",
      "Recall: 0.4906968031968032\n",
      "F1 Score: 0.48851831628612313\n",
      "--------------------------------------------------------------\n"
     ]
    },
    {
     "ename": "ValueError",
     "evalue": "Number of classes in y_true not equal to the number of columns in 'y_score'",
     "output_type": "error",
     "traceback": [
      "\u001b[0;31m---------------------------------------------------------------------------\u001b[0m",
      "\u001b[0;31mValueError\u001b[0m                                Traceback (most recent call last)",
      "Cell \u001b[0;32mIn[13], line 6\u001b[0m\n\u001b[1;32m      4\u001b[0m y_pred_lr \u001b[38;5;241m=\u001b[39m lr_model\u001b[38;5;241m.\u001b[39mpredict(X_test)\n\u001b[1;32m      5\u001b[0m y_pred_lr_proba \u001b[38;5;241m=\u001b[39m lr_model\u001b[38;5;241m.\u001b[39mpredict_proba(X_test)  \u001b[38;5;66;03m# 获取预测概率\u001b[39;00m\n\u001b[0;32m----> 6\u001b[0m \u001b[43mevaluate_model\u001b[49m\u001b[43m(\u001b[49m\u001b[43my_test\u001b[49m\u001b[43m,\u001b[49m\u001b[43m \u001b[49m\u001b[43my_pred_lr\u001b[49m\u001b[43m,\u001b[49m\u001b[43m \u001b[49m\u001b[38;5;124;43m\"\u001b[39;49m\u001b[38;5;124;43mLogistic Regression\u001b[39;49m\u001b[38;5;124;43m\"\u001b[39;49m\u001b[43m,\u001b[49m\u001b[43m \u001b[49m\u001b[43my_pred_proba\u001b[49m\u001b[38;5;241;43m=\u001b[39;49m\u001b[43my_pred_lr_proba\u001b[49m\u001b[43m)\u001b[49m\n",
      "Cell \u001b[0;32mIn[11], line 11\u001b[0m, in \u001b[0;36mevaluate_model\u001b[0;34m(y_true, y_pred, model_name, y_pred_proba)\u001b[0m\n\u001b[1;32m      8\u001b[0m \u001b[38;5;28mprint\u001b[39m(\u001b[38;5;124m'\u001b[39m\u001b[38;5;124m--------------------------------------------------------------\u001b[39m\u001b[38;5;124m'\u001b[39m)\n\u001b[1;32m     10\u001b[0m \u001b[38;5;28;01mif\u001b[39;00m y_pred_proba \u001b[38;5;129;01mis\u001b[39;00m \u001b[38;5;129;01mnot\u001b[39;00m \u001b[38;5;28;01mNone\u001b[39;00m:\n\u001b[0;32m---> 11\u001b[0m     \u001b[38;5;28mprint\u001b[39m(\u001b[38;5;124m\"\u001b[39m\u001b[38;5;124mROC AUC:\u001b[39m\u001b[38;5;124m\"\u001b[39m, \u001b[43mroc_auc_score\u001b[49m\u001b[43m(\u001b[49m\u001b[43my_true\u001b[49m\u001b[43m,\u001b[49m\u001b[43m \u001b[49m\u001b[43my_pred_proba\u001b[49m\u001b[43m,\u001b[49m\u001b[43m \u001b[49m\u001b[43mmulti_class\u001b[49m\u001b[38;5;241;43m=\u001b[39;49m\u001b[38;5;124;43m'\u001b[39;49m\u001b[38;5;124;43movr\u001b[39;49m\u001b[38;5;124;43m'\u001b[39;49m\u001b[43m)\u001b[49m)\n\u001b[1;32m     13\u001b[0m     \u001b[38;5;66;03m# 绘制多类的 ROC 曲线\u001b[39;00m\n\u001b[1;32m     14\u001b[0m     fpr \u001b[38;5;241m=\u001b[39m {}\n",
      "File \u001b[0;32m/usr/local/lib/python3.10/site-packages/sklearn/utils/_param_validation.py:213\u001b[0m, in \u001b[0;36mvalidate_params.<locals>.decorator.<locals>.wrapper\u001b[0;34m(*args, **kwargs)\u001b[0m\n\u001b[1;32m    207\u001b[0m \u001b[38;5;28;01mtry\u001b[39;00m:\n\u001b[1;32m    208\u001b[0m     \u001b[38;5;28;01mwith\u001b[39;00m config_context(\n\u001b[1;32m    209\u001b[0m         skip_parameter_validation\u001b[38;5;241m=\u001b[39m(\n\u001b[1;32m    210\u001b[0m             prefer_skip_nested_validation \u001b[38;5;129;01mor\u001b[39;00m global_skip_validation\n\u001b[1;32m    211\u001b[0m         )\n\u001b[1;32m    212\u001b[0m     ):\n\u001b[0;32m--> 213\u001b[0m         \u001b[38;5;28;01mreturn\u001b[39;00m \u001b[43mfunc\u001b[49m\u001b[43m(\u001b[49m\u001b[38;5;241;43m*\u001b[39;49m\u001b[43margs\u001b[49m\u001b[43m,\u001b[49m\u001b[43m \u001b[49m\u001b[38;5;241;43m*\u001b[39;49m\u001b[38;5;241;43m*\u001b[39;49m\u001b[43mkwargs\u001b[49m\u001b[43m)\u001b[49m\n\u001b[1;32m    214\u001b[0m \u001b[38;5;28;01mexcept\u001b[39;00m InvalidParameterError \u001b[38;5;28;01mas\u001b[39;00m e:\n\u001b[1;32m    215\u001b[0m     \u001b[38;5;66;03m# When the function is just a wrapper around an estimator, we allow\u001b[39;00m\n\u001b[1;32m    216\u001b[0m     \u001b[38;5;66;03m# the function to delegate validation to the estimator, but we replace\u001b[39;00m\n\u001b[1;32m    217\u001b[0m     \u001b[38;5;66;03m# the name of the estimator by the name of the function in the error\u001b[39;00m\n\u001b[1;32m    218\u001b[0m     \u001b[38;5;66;03m# message to avoid confusion.\u001b[39;00m\n\u001b[1;32m    219\u001b[0m     msg \u001b[38;5;241m=\u001b[39m re\u001b[38;5;241m.\u001b[39msub(\n\u001b[1;32m    220\u001b[0m         \u001b[38;5;124mr\u001b[39m\u001b[38;5;124m\"\u001b[39m\u001b[38;5;124mparameter of \u001b[39m\u001b[38;5;124m\\\u001b[39m\u001b[38;5;124mw+ must be\u001b[39m\u001b[38;5;124m\"\u001b[39m,\n\u001b[1;32m    221\u001b[0m         \u001b[38;5;124mf\u001b[39m\u001b[38;5;124m\"\u001b[39m\u001b[38;5;124mparameter of \u001b[39m\u001b[38;5;132;01m{\u001b[39;00mfunc\u001b[38;5;241m.\u001b[39m\u001b[38;5;18m__qualname__\u001b[39m\u001b[38;5;132;01m}\u001b[39;00m\u001b[38;5;124m must be\u001b[39m\u001b[38;5;124m\"\u001b[39m,\n\u001b[1;32m    222\u001b[0m         \u001b[38;5;28mstr\u001b[39m(e),\n\u001b[1;32m    223\u001b[0m     )\n",
      "File \u001b[0;32m/usr/local/lib/python3.10/site-packages/sklearn/metrics/_ranking.py:634\u001b[0m, in \u001b[0;36mroc_auc_score\u001b[0;34m(y_true, y_score, average, sample_weight, max_fpr, multi_class, labels)\u001b[0m\n\u001b[1;32m    632\u001b[0m     \u001b[38;5;28;01mif\u001b[39;00m multi_class \u001b[38;5;241m==\u001b[39m \u001b[38;5;124m\"\u001b[39m\u001b[38;5;124mraise\u001b[39m\u001b[38;5;124m\"\u001b[39m:\n\u001b[1;32m    633\u001b[0m         \u001b[38;5;28;01mraise\u001b[39;00m \u001b[38;5;167;01mValueError\u001b[39;00m(\u001b[38;5;124m\"\u001b[39m\u001b[38;5;124mmulti_class must be in (\u001b[39m\u001b[38;5;124m'\u001b[39m\u001b[38;5;124movo\u001b[39m\u001b[38;5;124m'\u001b[39m\u001b[38;5;124m, \u001b[39m\u001b[38;5;124m'\u001b[39m\u001b[38;5;124movr\u001b[39m\u001b[38;5;124m'\u001b[39m\u001b[38;5;124m)\u001b[39m\u001b[38;5;124m\"\u001b[39m)\n\u001b[0;32m--> 634\u001b[0m     \u001b[38;5;28;01mreturn\u001b[39;00m \u001b[43m_multiclass_roc_auc_score\u001b[49m\u001b[43m(\u001b[49m\n\u001b[1;32m    635\u001b[0m \u001b[43m        \u001b[49m\u001b[43my_true\u001b[49m\u001b[43m,\u001b[49m\u001b[43m \u001b[49m\u001b[43my_score\u001b[49m\u001b[43m,\u001b[49m\u001b[43m \u001b[49m\u001b[43mlabels\u001b[49m\u001b[43m,\u001b[49m\u001b[43m \u001b[49m\u001b[43mmulti_class\u001b[49m\u001b[43m,\u001b[49m\u001b[43m \u001b[49m\u001b[43maverage\u001b[49m\u001b[43m,\u001b[49m\u001b[43m \u001b[49m\u001b[43msample_weight\u001b[49m\n\u001b[1;32m    636\u001b[0m \u001b[43m    \u001b[49m\u001b[43m)\u001b[49m\n\u001b[1;32m    637\u001b[0m \u001b[38;5;28;01melif\u001b[39;00m y_type \u001b[38;5;241m==\u001b[39m \u001b[38;5;124m\"\u001b[39m\u001b[38;5;124mbinary\u001b[39m\u001b[38;5;124m\"\u001b[39m:\n\u001b[1;32m    638\u001b[0m     labels \u001b[38;5;241m=\u001b[39m np\u001b[38;5;241m.\u001b[39munique(y_true)\n",
      "File \u001b[0;32m/usr/local/lib/python3.10/site-packages/sklearn/metrics/_ranking.py:751\u001b[0m, in \u001b[0;36m_multiclass_roc_auc_score\u001b[0;34m(y_true, y_score, labels, multi_class, average, sample_weight)\u001b[0m\n\u001b[1;32m    749\u001b[0m     classes \u001b[38;5;241m=\u001b[39m _unique(y_true)\n\u001b[1;32m    750\u001b[0m     \u001b[38;5;28;01mif\u001b[39;00m \u001b[38;5;28mlen\u001b[39m(classes) \u001b[38;5;241m!=\u001b[39m y_score\u001b[38;5;241m.\u001b[39mshape[\u001b[38;5;241m1\u001b[39m]:\n\u001b[0;32m--> 751\u001b[0m         \u001b[38;5;28;01mraise\u001b[39;00m \u001b[38;5;167;01mValueError\u001b[39;00m(\n\u001b[1;32m    752\u001b[0m             \u001b[38;5;124m\"\u001b[39m\u001b[38;5;124mNumber of classes in y_true not equal to the number of \u001b[39m\u001b[38;5;124m\"\u001b[39m\n\u001b[1;32m    753\u001b[0m             \u001b[38;5;124m\"\u001b[39m\u001b[38;5;124mcolumns in \u001b[39m\u001b[38;5;124m'\u001b[39m\u001b[38;5;124my_score\u001b[39m\u001b[38;5;124m'\u001b[39m\u001b[38;5;124m\"\u001b[39m\n\u001b[1;32m    754\u001b[0m         )\n\u001b[1;32m    756\u001b[0m \u001b[38;5;28;01mif\u001b[39;00m multi_class \u001b[38;5;241m==\u001b[39m \u001b[38;5;124m\"\u001b[39m\u001b[38;5;124movo\u001b[39m\u001b[38;5;124m\"\u001b[39m:\n\u001b[1;32m    757\u001b[0m     \u001b[38;5;28;01mif\u001b[39;00m sample_weight \u001b[38;5;129;01mis\u001b[39;00m \u001b[38;5;129;01mnot\u001b[39;00m \u001b[38;5;28;01mNone\u001b[39;00m:\n",
      "\u001b[0;31mValueError\u001b[0m: Number of classes in y_true not equal to the number of columns in 'y_score'"
     ]
    }
   ],
   "source": [
    "# 训练并评估模型，确保正确的训练时间报告\n",
    "results = {}\n",
    "\n",
    "# 逻辑回归\n",
    "lr_model = LogisticRegression()\n",
    "start_time_lr = time.time()\n",
    "lr_model.fit(X_train, y_train)\n",
    "end_time_lr = time.time()\n",
    "training_time_lr = end_time_lr - start_time_lr\n",
    "y_pred_lr = lr_model.predict(X_test)\n",
    "y_pred_lr_proba = lr_model.predict_proba(X_test)  # 获取预测概率\n",
    "evaluate_model(y_test, y_pred_lr, \"Logistic Regression\", y_pred_proba=y_pred_lr_proba)\n",
    "\n",
    "results[\"Logistic Regression\"] = {\n",
    "    \"Accuracy\": accuracy_score(y_test, y_pred_lr),\n",
    "    \"Precision\": precision_score(y_test, y_pred_lr, average='weighted'),\n",
    "    \"Recall\": recall_score(y_test, y_pred_lr, average='weighted'),\n",
    "    \"F1 Score\": f1_score(y_test, y_pred_lr, average='weighted'),\n",
    "    \"AUC\": roc_auc_score(y_test, y_pred_lr_proba, multi_class='ovr'),\n",
    "    \"Training time\": training_time_lr\n",
    "}"
   ]
  },
  {
   "cell_type": "markdown",
   "id": "ee55eeea-1f2a-4088-8838-2835d862034b",
   "metadata": {},
   "source": [
    "朴素贝叶斯"
   ]
  },
  {
   "cell_type": "code",
   "execution_count": null,
   "id": "0e385b4d-f1ea-4a55-908d-f96bee299288",
   "metadata": {
    "execution": {
     "iopub.status.busy": "2024-11-06T03:53:16.527359Z",
     "iopub.status.idle": "2024-11-06T03:53:16.527629Z",
     "shell.execute_reply": "2024-11-06T03:53:16.527544Z",
     "shell.execute_reply.started": "2024-11-06T03:53:16.527535Z"
    },
    "tags": []
   },
   "outputs": [],
   "source": [
    "# 朴素贝叶斯\n",
    "nb_model = GaussianNB()\n",
    "start_time_nb = time.time()\n",
    "nb_model.fit(X_train, y_train)\n",
    "end_time_nb = time.time()\n",
    "training_time_nb = end_time_nb - start_time_nb\n",
    "y_pred_nb = nb_model.predict(X_test)\n",
    "y_pred_nb_proba = nb_model.predict_proba(X_test)  # 获取预测概率\n",
    "evaluate_model(y_test, y_pred_nb, \"Naive Bayes\", y_pred_proba=y_pred_nb_proba)\n",
    "\n",
    "results[\"Naive Bayes\"] = {\n",
    "    \"Accuracy\": accuracy_score(y_test, y_pred_nb),\n",
    "    \"Precision\": precision_score(y_test, y_pred_nb, average='weighted'),\n",
    "    \"Recall\": recall_score(y_test, y_pred_nb, average='weighted'),\n",
    "    \"F1 Score\": f1_score(y_test, y_pred_nb, average='weighted'),\n",
    "    \"AUC\": roc_auc_score(y_test, y_pred_nb_proba, multi_class='ovr'),\n",
    "    \"Training time\": training_time_nb\n",
    "}"
   ]
  },
  {
   "cell_type": "markdown",
   "id": "5db7a394-1eea-4fdc-b74c-d3c101796e21",
   "metadata": {},
   "source": [
    "随机森林"
   ]
  },
  {
   "cell_type": "code",
   "execution_count": null,
   "id": "b5c481a7-fede-455c-bf76-f4b9f9e24d4b",
   "metadata": {
    "execution": {
     "iopub.status.busy": "2024-11-06T03:53:16.528423Z",
     "iopub.status.idle": "2024-11-06T03:53:16.528683Z",
     "shell.execute_reply": "2024-11-06T03:53:16.528577Z",
     "shell.execute_reply.started": "2024-11-06T03:53:16.528566Z"
    },
    "tags": []
   },
   "outputs": [],
   "source": [
    "# 随机森林\n",
    "rf_model = RandomForestClassifier(n_estimators=100, random_state=42)\n",
    "start_time_rf = time.time()\n",
    "rf_model.fit(X_train, y_train)\n",
    "end_time_rf = time.time()\n",
    "training_time_rf = end_time_rf - start_time_rf\n",
    "y_pred_rf = rf_model.predict(X_test)\n",
    "y_pred_rf_proba = rf_model.predict_proba(X_test)  # 获取预测概率\n",
    "evaluate_model(y_test, y_pred_rf, \"Random Forest\", y_pred_proba=y_pred_rf_proba)\n",
    "\n",
    "results[\"Random Forest\"] = {\n",
    "    \"Accuracy\": accuracy_score(y_test, y_pred_rf),\n",
    "    \"Precision\": precision_score(y_test, y_pred_rf, average='weighted'),\n",
    "    \"Recall\": recall_score(y_test, y_pred_rf, average='weighted'),\n",
    "    \"F1 Score\": f1_score(y_test, y_pred_rf, average='weighted'),\n",
    "    \"AUC\": roc_auc_score(y_test, y_pred_rf_proba, multi_class='ovr'),\n",
    "    \"Training time\": training_time_rf\n",
    "}"
   ]
  },
  {
   "cell_type": "markdown",
   "id": "555ef8fe-7d3c-4403-ac77-3b2ee6bb3b7b",
   "metadata": {},
   "source": [
    "RNN模型"
   ]
  },
  {
   "cell_type": "code",
   "execution_count": null,
   "id": "58287b8a-9152-46bf-b8ce-ab23030d9c6b",
   "metadata": {
    "execution": {
     "iopub.status.busy": "2024-11-06T03:53:16.529439Z",
     "iopub.status.idle": "2024-11-06T03:53:16.529690Z",
     "shell.execute_reply": "2024-11-06T03:53:16.529585Z",
     "shell.execute_reply.started": "2024-11-06T03:53:16.529575Z"
    },
    "tags": []
   },
   "outputs": [],
   "source": [
    "# RNN\n",
    "y_train_categorical = to_categorical(y_train)\n",
    "y_test_categorical = to_categorical(y_test)\n",
    "X_train_rnn = X_train.reshape((X_train.shape[0], X_train.shape[1], 1))\n",
    "X_test_rnn = X_test.reshape((X_test.shape[0], X_test.shape[1], 1))\n",
    "rnn_model = Sequential([\n",
    "    SimpleRNN(50, input_shape=(X_train.shape[1], 1), activation='relu'),\n",
    "    Dense(len(label_encoder.classes_), activation='softmax')\n",
    "])\n",
    "start_time_rnn = time.time()\n",
    "rnn_model.compile(optimizer='adam', loss='categorical_crossentropy', metrics=['accuracy'])\n",
    "history = rnn_model.fit(X_train_rnn, y_train_categorical, epochs=5, batch_size=64, validation_data=(X_test_rnn, y_test_categorical))\n",
    "end_time_rnn = time.time()\n",
    "training_time_rnn = end_time_rnn - start_time_rnn\n",
    "y_pred_rnn_proba = rnn_model.predict(X_test_rnn)\n",
    "y_pred_rnn = np.argmax(y_pred_rnn_proba, axis=1)\n",
    "evaluate_model(y_test, y_pred_rnn, \"RNN\", y_pred_proba=y_pred_rnn_proba)\n",
    "\n",
    "results[\"RNN\"] = {\n",
    "    \"Accuracy\": accuracy_score(y_test, y_pred_rnn),\n",
    "    \"Precision\": precision_score(y_test, y_pred_rnn, average='weighted'),\n",
    "    \"Recall\": recall_score(y_test, y_pred_rnn, average='weighted'),\n",
    "    \"F1 Score\": f1_score(y_test, y_pred_rnn, average='weighted'),\n",
    "    \"AUC\": roc_auc_score(y_test, y_pred_rnn_proba, multi_class='ovr'),\n",
    "    \"Training time\": training_time_rnn\n",
    "}"
   ]
  },
  {
   "cell_type": "markdown",
   "id": "b02d00f6-608a-4e11-80ce-3a2fa812df7c",
   "metadata": {},
   "source": [
    "模型性能对比"
   ]
  },
  {
   "cell_type": "code",
   "execution_count": null,
   "id": "f59510dd-59db-4096-a7b7-fd810a4fff66",
   "metadata": {
    "ExecutionIndicator": {
     "show": true
    },
    "execution": {
     "iopub.status.busy": "2024-11-06T03:53:16.530425Z",
     "iopub.status.idle": "2024-11-06T03:53:16.530703Z",
     "shell.execute_reply": "2024-11-06T03:53:16.530599Z",
     "shell.execute_reply.started": "2024-11-06T03:53:16.530589Z"
    },
    "tags": []
   },
   "outputs": [],
   "source": [
    "# 将结果转换为 DataFrame 进行显示\n",
    "result_df = pd.DataFrame(results).T\n",
    "print(result_df)\n",
    "# 保存结果\n",
    "result_df.to_csv('./result/model_results.csv', index=True)\n",
    "\n",
    "# 生成结果对比图\n",
    "# 设置图形大小\n",
    "plt.figure(figsize=(10, 6))\n",
    "\n",
    "# 绘制柱状图\n",
    "result_df.plot(kind='bar', stacked=False, color=['blue', 'orange', 'green', 'red'])\n",
    "\n",
    "# 添加标题和轴标签\n",
    "plt.title('Model Comparison on Evaluation Metrics')\n",
    "plt.xlabel('Models')\n",
    "plt.ylabel('Score')\n",
    "\n",
    "# 调整布局以适应所有的元素\n",
    "plt.tight_layout()\n",
    "\n",
    "# 保存图像\n",
    "plt.savefig('./result/model_comparison.png')\n",
    "\n",
    "# 显示图像\n",
    "plt.show()"
   ]
  }
 ],
 "metadata": {
  "kernelspec": {
   "display_name": "Python 3 (ipykernel)",
   "language": "python",
   "name": "python3"
  },
  "language_info": {
   "codemirror_mode": {
    "name": "ipython",
    "version": 3
   },
   "file_extension": ".py",
   "mimetype": "text/x-python",
   "name": "python",
   "nbconvert_exporter": "python",
   "pygments_lexer": "ipython3",
   "version": "3.10.14"
  }
 },
 "nbformat": 4,
 "nbformat_minor": 5
}
